{
  "cells": [
    {
      "cell_type": "code",
      "execution_count": 15,
      "metadata": {
        "colab": {
          "base_uri": "https://localhost:8080/"
        },
        "id": "b730s5E0WZch",
        "outputId": "4a4a0170-6d36-4145-d86e-db9fc7ea5096"
      },
      "outputs": [
        {
          "name": "stdout",
          "output_type": "stream",
          "text": [
            "Imports...\n"
          ]
        }
      ],
      "source": [
        "print(\"Imports...\")\n",
        "\n",
        "import pickle\n",
        "import tensorflow as tf\n",
        "\n",
        "from tensorflow import keras\n",
        "from keras.models import Sequential\n",
        "from keras.layers import Dense, LSTM"
      ]
    },
    {
      "cell_type": "code",
      "execution_count": null,
      "metadata": {
        "id": "CQ-ilkWXWNsC"
      },
      "outputs": [],
      "source": [
        "with open(\"data/x_train\" , \"rb\") as file:\n",
        "    x_train = pickle.load(file)\n",
        "\n",
        "with open(\"data/y_train\" , \"rb\") as file:\n",
        "    y_train = pickle.load(file)\n",
        "\n",
        "with open(\"data/x_test\" , \"rb\") as file:\n",
        "    x_test = pickle.load(file)\n",
        "\n",
        "with open(\"data/y_test\" , \"rb\") as file:\n",
        "    y_test = pickle.load(file)"
      ]
    },
    {
      "cell_type": "code",
      "execution_count": 12,
      "metadata": {
        "id": "uabYFFlQW3eP"
      },
      "outputs": [],
      "source": [
        "with open(\"data/note_to_int\" , \"rb\") as file:\n",
        "    note_to_int = pickle.load(file)\n",
        "\n",
        "with open(\"data/int_to_note\" , \"rb\") as file:\n",
        "    int_to_note = pickle.load(file)\n",
        "\n",
        "assert len(note_to_int) == len(int_to_note)"
      ]
    },
    {
      "cell_type": "code",
      "execution_count": 13,
      "metadata": {
        "id": "4t4mbOfBZ9OJ"
      },
      "outputs": [],
      "source": [
        "unique_notes = len(note_to_int)"
      ]
    },
    {
      "cell_type": "code",
      "execution_count": 17,
      "metadata": {
        "id": "SgzQTih_Yf0S"
      },
      "outputs": [],
      "source": [
        "model = Sequential()\n",
        "model.add(LSTM(128, return_sequences=True))\n",
        "model.add(LSTM(80))\n",
        "model.add(Dense(unique_notes, activation=\"softmax\"))\n",
        "model.compile(loss='categorical_crossentropy', optimizer=tf.keras.optimizers.Adam(), metrics=['accuracy'])"
      ]
    },
    {
      "cell_type": "code",
      "execution_count": null,
      "metadata": {
        "id": "a8rf55yEaz7K"
      },
      "outputs": [],
      "source": [
        "assert x_train.shape == x_test.shape\n",
        "\n",
        "input_shape = x_train.shape\n",
        "model.build(input_shape) "
      ]
    },
    {
      "cell_type": "markdown",
      "metadata": {
        "id": "L16GYlpAYiRb"
      },
      "source": [
        "Przetrenowany przeze mnie model został zapisany jako plik .hdf5, jest dostępny w każdej chwili do pobrania i załadowania. Parametry tego modelu zostały dostosowane - najlepiej jak według mnie się dało - pod dane wejściowe Maestro. Obecna predykcja modelu jest subiektywnie rozsądna i miła dla ucha."
      ]
    },
    {
      "cell_type": "code",
      "execution_count": null,
      "metadata": {
        "colab": {
          "base_uri": "https://localhost:8080/"
        },
        "id": "J9mtSTGUXbzR",
        "outputId": "790c7b2a-1805-4ea6-810b-febe59cf337c"
      },
      "outputs": [],
      "source": [
        "model = keras.models.load_model('music_model.hdf5')"
      ]
    },
    {
      "cell_type": "code",
      "execution_count": null,
      "metadata": {
        "id": "R7l03ZmVbMGe"
      },
      "outputs": [],
      "source": [
        "model.fit(x_train, y_train, epochs=100)"
      ]
    },
    {
      "cell_type": "markdown",
      "metadata": {
        "id": "4E4POTLxb_bV"
      },
      "source": [
        "Weźmy pod uwagę, że testowanie wprost modelu muzycznego jest zajęciem karkołomnym. Twórcy największego obecnie modelu tego typu - Magenta - przyznają, że jest to wręcz niemożliwe przez samą specyfikę tworu artystycznego jakim jest muzyka. Testy powinny polegać na subiektywnym, ludzkim wrażeniu efektów predykcji modelu."
      ]
    },
    {
      "cell_type": "code",
      "execution_count": null,
      "metadata": {
        "id": "0tZ9AFn9bxIw"
      },
      "outputs": [],
      "source": [
        "model.evaluate(x_test, y_test)"
      ]
    },
    {
      "cell_type": "code",
      "execution_count": null,
      "metadata": {
        "id": "fQP0pE7lcN1G"
      },
      "outputs": [],
      "source": [
        "model.save(\"music_model-2.hdf5\")"
      ]
    }
  ],
  "metadata": {
    "colab": {
      "provenance": []
    },
    "kernelspec": {
      "display_name": "Python 3",
      "name": "python3"
    },
    "language_info": {
      "name": "python"
    }
  },
  "nbformat": 4,
  "nbformat_minor": 0
}
