{
  "nbformat": 4,
  "nbformat_minor": 0,
  "metadata": {
    "colab": {
      "provenance": []
    },
    "kernelspec": {
      "name": "python3",
      "display_name": "Python 3"
    },
    "language_info": {
      "name": "python"
    }
  },
  "cells": [
    {
      "cell_type": "code",
      "source": [
        "print(\"Imports...\")\n",
        "\n",
        "import pickle\n",
        "import tensorflow as tf\n",
        "\n",
        "from tensorflow import keras\n",
        "from keras.models import Sequential\n",
        "from keras.layers import Dense, LSTM"
      ],
      "metadata": {
        "colab": {
          "base_uri": "https://localhost:8080/"
        },
        "id": "b730s5E0WZch",
        "outputId": "4a4a0170-6d36-4145-d86e-db9fc7ea5096"
      },
      "execution_count": 15,
      "outputs": [
        {
          "output_type": "stream",
          "name": "stdout",
          "text": [
            "Imports...\n"
          ]
        }
      ]
    },
    {
      "cell_type": "code",
      "execution_count": null,
      "metadata": {
        "id": "CQ-ilkWXWNsC"
      },
      "outputs": [],
      "source": [
        "with open(\"data/x_train\" , \"rb\") as file:\n",
        "    x_train = pickle.load(file)\n",
        "\n",
        "with open(\"data/y_train\" , \"rb\") as file:\n",
        "    y_train = pickle.load(file)\n",
        "\n",
        "with open(\"data/x_test\" , \"rb\") as file:\n",
        "    x_test = pickle.load(file)\n",
        "\n",
        "with open(\"data/y_test\" , \"rb\") as file:\n",
        "    y_test = pickle.load(file)"
      ]
    },
    {
      "cell_type": "code",
      "source": [
        "with open(\"data/note_to_int\" , \"rb\") as file:\n",
        "    note_to_int = pickle.load(file)\n",
        "\n",
        "with open(\"data/int_to_note\" , \"rb\") as file:\n",
        "    int_to_note = pickle.load(file)\n",
        "\n",
        "assert len(note_to_int) == len(int_to_note)"
      ],
      "metadata": {
        "id": "uabYFFlQW3eP"
      },
      "execution_count": 12,
      "outputs": []
    },
    {
      "cell_type": "code",
      "source": [
        "unique_notes = len(note_to_int)"
      ],
      "metadata": {
        "id": "4t4mbOfBZ9OJ"
      },
      "execution_count": 13,
      "outputs": []
    },
    {
      "cell_type": "code",
      "source": [
        "model = Sequential()\n",
        "model.add(LSTM(128, return_sequences=True))\n",
        "model.add(LSTM(80))\n",
        "model.add(Dense(unique_notes, activation=\"softmax\"))\n",
        "model.compile(loss='categorical_crossentropy', optimizer=tf.keras.optimizers.Adam(), metrics=['accuracy'])"
      ],
      "metadata": {
        "id": "SgzQTih_Yf0S"
      },
      "execution_count": 17,
      "outputs": []
    },
    {
      "cell_type": "code",
      "source": [
        "assert x_train.shape == x_test.shape\n",
        "\n",
        "input_shape = x_train.shape\n",
        "model.build(input_shape) "
      ],
      "metadata": {
        "id": "a8rf55yEaz7K"
      },
      "execution_count": null,
      "outputs": []
    },
    {
      "cell_type": "markdown",
      "source": [
        "Przetrenowany przeze mnie model został zapisany jako plik .hdf5, jest dostępny w każdej chwili do pobrania i załadowania. Parametry tego modelu zostały dostosowane - najlepiej jak według mnie się dało - pod dane wejściowe Maestro. Obecna predykcja modelu jest subiektywnie rozsądna i miła dla ucha."
      ],
      "metadata": {
        "id": "L16GYlpAYiRb"
      }
    },
    {
      "cell_type": "code",
      "source": [
        "model = keras.models.load_model('music_model.hdf5')\n",
        "model.summary()"
      ],
      "metadata": {
        "colab": {
          "base_uri": "https://localhost:8080/"
        },
        "id": "J9mtSTGUXbzR",
        "outputId": "790c7b2a-1805-4ea6-810b-febe59cf337c"
      },
      "execution_count": 9,
      "outputs": [
        {
          "output_type": "stream",
          "name": "stdout",
          "text": [
            "Model: \"sequential\"\n",
            "_________________________________________________________________\n",
            " Layer (type)                Output Shape              Param #   \n",
            "=================================================================\n",
            " lstm (LSTM)                 (None, 20, 128)           749568    \n",
            "                                                                 \n",
            " lstm_1 (LSTM)               (None, 80)                66880     \n",
            "                                                                 \n",
            " dense (Dense)               (None, 1335)              108135    \n",
            "                                                                 \n",
            "=================================================================\n",
            "Total params: 924,583\n",
            "Trainable params: 924,583\n",
            "Non-trainable params: 0\n",
            "_________________________________________________________________\n"
          ]
        }
      ]
    },
    {
      "cell_type": "code",
      "source": [
        "model.fit(x_train, y_train, epochs=100)"
      ],
      "metadata": {
        "id": "R7l03ZmVbMGe"
      },
      "execution_count": null,
      "outputs": []
    },
    {
      "cell_type": "markdown",
      "source": [
        "Weźmy pod uwagę, że testowanie wprost modelu muzycznego jest zajęciem karkołomnym. Twórcy największego obecnie modelu tego typu - Magenta - przyznają, że jest to wręcz niemożliwe przez samą specyfikę tworu artystycznego jakim jest muzyka. Testy powinny polegać na subiektywnym, ludzkim wrażeniu efektów predykcji modelu."
      ],
      "metadata": {
        "id": "4E4POTLxb_bV"
      }
    },
    {
      "cell_type": "code",
      "source": [
        "model.evaluate(x_test, y_test)"
      ],
      "metadata": {
        "id": "0tZ9AFn9bxIw"
      },
      "execution_count": null,
      "outputs": []
    },
    {
      "cell_type": "code",
      "source": [
        "model.save(\"music_model-2.hdf5\")"
      ],
      "metadata": {
        "id": "fQP0pE7lcN1G"
      },
      "execution_count": null,
      "outputs": []
    }
  ]
}